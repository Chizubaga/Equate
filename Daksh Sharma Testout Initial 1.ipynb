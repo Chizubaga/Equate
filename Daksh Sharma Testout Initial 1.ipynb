{
 "cells": [
  {
   "cell_type": "code",
   "execution_count": 1,
   "id": "a2f33d2f",
   "metadata": {},
   "outputs": [
    {
     "name": "stdout",
     "output_type": "stream",
     "text": [
      "hello world\n"
     ]
    }
   ],
   "source": [
    "print('hello world')"
   ]
  },
  {
   "cell_type": "code",
   "execution_count": 2,
   "id": "03a4f468",
   "metadata": {},
   "outputs": [
    {
     "name": "stdout",
     "output_type": "stream",
     "text": [
      "enter a number: 1\n",
      "enter a number: 2\n",
      "3\n"
     ]
    }
   ],
   "source": [
    "a=int(input('enter a number: '))\n",
    "b=int(input('enter a number: '))\n",
    "print(a+b)"
   ]
  },
  {
   "cell_type": "code",
   "execution_count": 4,
   "id": "1bd839a6",
   "metadata": {},
   "outputs": [
    {
     "name": "stdout",
     "output_type": "stream",
     "text": [
      "enter a number: 5\n",
      "enter a number: 2\n",
      "the remainder is:  1\n"
     ]
    }
   ],
   "source": [
    "a=(int(input('enter a number: ')))\n",
    "b=(int(input('enter a number: ')))\n",
    "print('the remainder is: ',a%b)"
   ]
  },
  {
   "cell_type": "code",
   "execution_count": 12,
   "id": "3af801d1",
   "metadata": {},
   "outputs": [
    {
     "name": "stdout",
     "output_type": "stream",
     "text": [
      "enter 1st number: 3\n",
      "enter 2nd number: 4\n",
      "enter 3rd number: 5\n",
      "4.0\n"
     ]
    }
   ],
   "source": [
    "a=int(input('enter 1st number: '))\n",
    "b=int(input('enter 2nd number: '))\n",
    "c=int(input('enter 3rd number: '))\n",
    "avg=(a+b+c)/3\n",
    "print(avg)"
   ]
  },
  {
   "cell_type": "code",
   "execution_count": 7,
   "id": "9823e7b4",
   "metadata": {},
   "outputs": [
    {
     "name": "stdout",
     "output_type": "stream",
     "text": [
      "WELCOME TO A SIMPLE MENSURATION PROGRAM\n",
      "/nCALCULATION AREA\n",
      "1. Circle\n",
      "2. Rectangle\n",
      "3. Square\n",
      "4. Exit\n",
      "enter the choice3\n",
      "enter side of the square: 4\n",
      "Area of the triangle:  16\n"
     ]
    }
   ],
   "source": [
    "#printing the starting line\n",
    "print('WELCOME TO A SIMPLE MENSURATION PROGRAM')\n",
    "print('/nCALCULATION AREA')\n",
    "print('1. Circle')\n",
    "print('2. Rectangle')\n",
    "print('3. Square')\n",
    "print('4. Exit')\n",
    "choice3=int(input('enter the choice: '))\n",
    "if choice3==1:\n",
    "    radius=int(input('enter the radius of the circle: '))\n",
    "    area1=3.14*radius*radius\n",
    "    print('area of the circle: ', area1)\n",
    "elif choice3==2:\n",
    "    height=int(input('enter height of rectangle: '))\n",
    "    width=int(input('enter width of rectangle: '))\n",
    "    area2=height*width\n",
    "    print('area of rectangle: ',area2)\n",
    "elif choice3==3:\n",
    "    side=int(input('enter side of the square: '))\n",
    "    area3=side*side\n",
    "    print('Area of the triangle: ',area3)"
   ]
  },
  {
   "cell_type": "code",
   "execution_count": 8,
   "id": "28e2732f",
   "metadata": {},
   "outputs": [
    {
     "name": "stdout",
     "output_type": "stream",
     "text": [
      "enter a number: 4\n",
      "The Sum is:  10\n"
     ]
    }
   ],
   "source": [
    "num=int(input('enter a number: '))\n",
    "sum_n=0\n",
    "while num>0:\n",
    "    sum_n=sum_n+num\n",
    "    num=num-1\n",
    "print('The Sum is: ',sum_n)"
   ]
  },
  {
   "cell_type": "code",
   "execution_count": 13,
   "id": "c68223fa",
   "metadata": {},
   "outputs": [
    {
     "name": "stdout",
     "output_type": "stream",
     "text": [
      "the sum of numbers is:  140\n"
     ]
    }
   ],
   "source": [
    "numbers=[10,20,5,15,25,35,30]\n",
    "sum_num=0\n",
    "for val in numbers:\n",
    "    sum_num=sum_num+val\n",
    "print('the sum of numbers is: ',sum_num)"
   ]
  },
  {
   "cell_type": "code",
   "execution_count": 14,
   "id": "57523702",
   "metadata": {},
   "outputs": [
    {
     "name": "stdout",
     "output_type": "stream",
     "text": [
      "2\n",
      "4\n",
      "6\n",
      "8\n",
      "10\n",
      "12\n",
      "14\n",
      "16\n",
      "18\n",
      "20\n"
     ]
    }
   ],
   "source": [
    "#WAP to print table of 2\n",
    "for i in range(1,21):\n",
    "    if i%2==0:\n",
    "        print(i)"
   ]
  },
  {
   "cell_type": "code",
   "execution_count": 15,
   "id": "e44cfc53",
   "metadata": {},
   "outputs": [
    {
     "name": "stdout",
     "output_type": "stream",
     "text": [
      "5\n",
      "10\n",
      "15\n",
      "20\n",
      "25\n",
      "30\n",
      "35\n",
      "40\n",
      "45\n",
      "50\n"
     ]
    }
   ],
   "source": [
    "#WAP to print table of 5\n",
    "for i in range(1,51):\n",
    "    if i%5==0:\n",
    "        print(i)"
   ]
  },
  {
   "cell_type": "code",
   "execution_count": 28,
   "id": "704ecbf0",
   "metadata": {},
   "outputs": [
    {
     "name": "stdout",
     "output_type": "stream",
     "text": [
      "0\n",
      "25\n",
      "50\n",
      "75\n"
     ]
    }
   ],
   "source": [
    "for i in range(0,100,25):\n",
    "    print(i)\n"
   ]
  },
  {
   "cell_type": "code",
   "execution_count": 36,
   "id": "b7b92e68",
   "metadata": {},
   "outputs": [
    {
     "name": "stdout",
     "output_type": "stream",
     "text": [
      "enter a number for table: 78\n",
      "78 x 1 = 78\n",
      "78 x 2 = 156\n",
      "78 x 3 = 234\n",
      "78 x 4 = 312\n",
      "78 x 5 = 390\n",
      "78 x 6 = 468\n",
      "78 x 7 = 546\n",
      "78 x 8 = 624\n",
      "78 x 9 = 702\n",
      "78 x 10 = 780\n"
     ]
    }
   ],
   "source": [
    "n=int(input('enter a number for table: '))\n",
    "for i in range(1, 11):\n",
    "    print(n,'x',i,'=',n*i)"
   ]
  },
  {
   "cell_type": "code",
   "execution_count": 40,
   "id": "e895916f",
   "metadata": {},
   "outputs": [
    {
     "name": "stdout",
     "output_type": "stream",
     "text": [
      "enter a number: 51\n",
      "factorial of  51 is 1551118753287382280224243016469303211063259720016986112000000000000\n"
     ]
    }
   ],
   "source": [
    "n=int(input('enter a number: '))\n",
    "f=1\n",
    "for i in range(1,n+1):\n",
    "    f=f*i\n",
    "print('factorial of ',n,'is',f)"
   ]
  },
  {
   "cell_type": "code",
   "execution_count": 43,
   "id": "398249a2",
   "metadata": {},
   "outputs": [
    {
     "name": "stdout",
     "output_type": "stream",
     "text": [
      "enter the number: 6\n",
      "factorial of  6 is 720\n"
     ]
    }
   ],
   "source": [
    "n=int(input('enter the number: '))\n",
    "f=1\n",
    "i=1\n",
    "while i<=n:\n",
    "    f=f*i\n",
    "    i=i+1\n",
    "print('factorial of ',n,'is',f)\n"
   ]
  },
  {
   "cell_type": "code",
   "execution_count": 45,
   "id": "46a898ec",
   "metadata": {},
   "outputs": [
    {
     "name": "stdout",
     "output_type": "stream",
     "text": [
      "enter the digit= 4\n",
      "the total sum of digits is= 4\n"
     ]
    }
   ],
   "source": [
    "n=int(input('enter the digit= '))\n",
    "x=0\n",
    "while(n>0):\n",
    "    d=n%10\n",
    "    x=x+d\n",
    "    n=n//10\n",
    "print('the total sum of digits is=',x)"
   ]
  },
  {
   "cell_type": "code",
   "execution_count": 1,
   "id": "5ad30345",
   "metadata": {},
   "outputs": [
    {
     "name": "stdout",
     "output_type": "stream",
     "text": [
      "A \n",
      "B B \n",
      "C C C \n",
      "D D D D \n",
      "E E E E E \n"
     ]
    }
   ],
   "source": [
    "for i in range(65,70):\n",
    "    for j in range(65,i+1):\n",
    "        print(chr(i),end=' ')\n",
    "    print()"
   ]
  },
  {
   "cell_type": "code",
   "execution_count": 2,
   "id": "e4d61d50",
   "metadata": {},
   "outputs": [
    {
     "name": "stdout",
     "output_type": "stream",
     "text": [
      "red apple\n",
      "red banana\n",
      "red cherry\n",
      "big apple\n",
      "big banana\n",
      "big cherry\n",
      "tasty apple\n",
      "tasty banana\n",
      "tasty cherry\n"
     ]
    }
   ],
   "source": [
    "adj=['red','big','tasty']\n",
    "fruits=['apple','banana','cherry']\n",
    "\n",
    "for x in adj:\n",
    "    for y in fruits:\n",
    "        print(x,y)"
   ]
  },
  {
   "cell_type": "code",
   "execution_count": 3,
   "id": "b9cc4333",
   "metadata": {},
   "outputs": [
    {
     "name": "stdout",
     "output_type": "stream",
     "text": [
      "0\n",
      "1\n",
      "2\n",
      "4\n",
      "5\n"
     ]
    }
   ],
   "source": [
    "for x in range(7):\n",
    "    if x==3 or x==6:\n",
    "        continue\n",
    "    print(x)"
   ]
  },
  {
   "cell_type": "code",
   "execution_count": 4,
   "id": "3b3857b7",
   "metadata": {},
   "outputs": [
    {
     "name": "stdout",
     "output_type": "stream",
     "text": [
      "2 * 1 = 2\n",
      "2 * 2 = 4\n",
      "2 * 3 = 6\n",
      "2 * 4 = 8\n",
      "2 * 5 = 10\n",
      "2 * 6 = 12\n",
      "2 * 7 = 14\n",
      "2 * 8 = 16\n",
      "2 * 9 = 18\n",
      "2 * 10 = 20\n",
      "\n",
      "3 * 1 = 3\n",
      "3 * 2 = 6\n",
      "3 * 3 = 9\n",
      "3 * 4 = 12\n",
      "3 * 5 = 15\n",
      "3 * 6 = 18\n",
      "3 * 7 = 21\n",
      "3 * 8 = 24\n",
      "3 * 9 = 27\n",
      "3 * 10 = 30\n",
      "\n"
     ]
    }
   ],
   "source": [
    "for i in range(2,4):\n",
    "    \n",
    "    #printing inside the outer loop\n",
    "    #running inner loop from 1 to 10\n",
    "    for j in range(1,11):\n",
    "        \n",
    "        #printing inside the inner loop\n",
    "        print(i,'*',j,'=',i*j)\n",
    "    #printing inside the outer loop\n",
    "    print()"
   ]
  },
  {
   "cell_type": "code",
   "execution_count": 6,
   "id": "cbd41aca",
   "metadata": {},
   "outputs": [
    {
     "name": "stdout",
     "output_type": "stream",
     "text": [
      "enter the string character=Yes\n",
      "invalid entry\n"
     ]
    }
   ],
   "source": [
    "a=input('enter the string character=')\n",
    "if a.isupper():\n",
    "    print(a.lower())\n",
    "elif a.islower():\n",
    "    print(a.upper())\n",
    "else:\n",
    "    print('invalid entry')"
   ]
  },
  {
   "cell_type": "code",
   "execution_count": 1,
   "id": "1e31fb21",
   "metadata": {},
   "outputs": [
    {
     "name": "stdout",
     "output_type": "stream",
     "text": [
      "hello from a function\n"
     ]
    }
   ],
   "source": [
    "def my_function():\n",
    "    print('hello from a function')\n",
    "my_function()"
   ]
  },
  {
   "cell_type": "code",
   "execution_count": 2,
   "id": "a071a67a",
   "metadata": {},
   "outputs": [
    {
     "name": "stdout",
     "output_type": "stream",
     "text": [
      "15\n",
      "25\n",
      "45\n"
     ]
    }
   ],
   "source": [
    "def my_function(x):\n",
    "    return 5*x\n",
    "\n",
    "print(my_function(3))\n",
    "print(my_function(5))\n",
    "print(my_function(9))"
   ]
  },
  {
   "cell_type": "code",
   "execution_count": 3,
   "id": "12201b83",
   "metadata": {},
   "outputs": [
    {
     "name": "stdout",
     "output_type": "stream",
     "text": [
      "the sum is:  80\n"
     ]
    }
   ],
   "source": [
    "#WAP to add two numbers using function\n",
    "def add_num(a,b): #function for addition\n",
    "    sum=a+b\n",
    "    return sum; #return value\n",
    "\n",
    "num1=25 #variable declaration\n",
    "num2=55\n",
    "print('the sum is: ',add_num(num1,num2)) #call the function"
   ]
  },
  {
   "cell_type": "code",
   "execution_count": 5,
   "id": "4b730f00",
   "metadata": {},
   "outputs": [
    {
     "name": "stdout",
     "output_type": "stream",
     "text": [
      "30\n"
     ]
    }
   ],
   "source": [
    "def sum_1(a,b):\n",
    "    return a+b\n",
    "a=20\n",
    "b=10\n",
    "\n",
    "c=sum_1(a,b)\n",
    "print(c)"
   ]
  },
  {
   "cell_type": "code",
   "execution_count": 6,
   "id": "97974b03",
   "metadata": {},
   "outputs": [
    {
     "name": "stdout",
     "output_type": "stream",
     "text": [
      "Takes in a number n, returns the square of n\n"
     ]
    },
    {
     "data": {
      "text/plain": [
       "25"
      ]
     },
     "execution_count": 6,
     "metadata": {},
     "output_type": "execute_result"
    }
   ],
   "source": [
    "def square(n):\n",
    "    '''Takes in a number n, returns the square of n'''\n",
    "    return n**2\n",
    "print(square.__doc__)\n",
    "square(5)"
   ]
  },
  {
   "cell_type": "code",
   "execution_count": 7,
   "id": "9751a0f7",
   "metadata": {},
   "outputs": [
    {
     "name": "stdout",
     "output_type": "stream",
     "text": [
      "g 8\n"
     ]
    }
   ],
   "source": [
    "#python program to find the largest\n",
    "\n",
    "def maximum(x,y,z):\n",
    "    if(x>=y) and (x>=z):\n",
    "        largest=x\n",
    "    elif(y>=x) and (y>=z):\n",
    "        largest=y\n",
    "    elif(z>=x) and (z>=y):\n",
    "        largest=z\n",
    "    return largest\n",
    "\n",
    "x=2\n",
    "y=5\n",
    "z=8\n",
    "print('g',maximum(x,y,z))"
   ]
  },
  {
   "cell_type": "code",
   "execution_count": 11,
   "id": "7c06ea54",
   "metadata": {},
   "outputs": [
    {
     "name": "stdout",
     "output_type": "stream",
     "text": [
      "Please enter any number to find factorial: 120\n",
      "6689502913449127057588118054090372586752746333138029810295671352301633557244962989366874165271984981308157637893214090552534408589408121859898481114389650005964960521256960000000000000000000000000000\n"
     ]
    }
   ],
   "source": [
    "def factorial(num): #function definition\n",
    "    fact=1\n",
    "    \n",
    "    for i in range(1,num+1): #for loop for finding factorial\n",
    "        fact=fact*i\n",
    "    return fact #return factorial\n",
    "\n",
    "number=int(input('Please enter any number to find factorial: '))\n",
    "result=factorial(number) #function call and assign the value\n",
    "print(result)"
   ]
  },
  {
   "cell_type": "code",
   "execution_count": 1,
   "id": "63dfc4f4",
   "metadata": {},
   "outputs": [
    {
     "name": "stdout",
     "output_type": "stream",
     "text": [
      "5\n"
     ]
    }
   ],
   "source": [
    "#function definition is here\n",
    "def printme(str):\n",
    "    print(str)\n",
    "    return\n",
    "#now you can call printme function\n",
    "printme(5)"
   ]
  },
  {
   "cell_type": "code",
   "execution_count": 2,
   "id": "16924b80",
   "metadata": {},
   "outputs": [
    {
     "name": "stdout",
     "output_type": "stream",
     "text": [
      "student details jessa 14\n",
      "student details john 12\n",
      "student details donald 13\n"
     ]
    }
   ],
   "source": [
    "def student(name,age):\n",
    "    print('student details',name,age)\n",
    "    \n",
    "#default function call\n",
    "student('jessa',14)\n",
    "#both keywords agrguments\n",
    "student(name='john',age=12)\n",
    "#1 positional and 1 keyword\n",
    "student('donald',age=13)"
   ]
  },
  {
   "cell_type": "code",
   "execution_count": 4,
   "id": "c4f83633",
   "metadata": {},
   "outputs": [
    {
     "name": "stdout",
     "output_type": "stream",
     "text": [
      "Name:  ram\n",
      "Age:  50\n"
     ]
    }
   ],
   "source": [
    "def printinfo(name,age=20):\n",
    "    'This prints a passed info into this function'\n",
    "    print('Name: ',name)\n",
    "    print('Age: ',age)\n",
    "    return\n",
    "#now you can call the function\n",
    "printinfo(age=50, name='ram')"
   ]
  },
  {
   "cell_type": "code",
   "execution_count": 7,
   "id": "0b8405a7",
   "metadata": {},
   "outputs": [
    {
     "name": "stdout",
     "output_type": "stream",
     "text": [
      "John Mark studies in fifth standard\n",
      "John Gates studies in Seventh standard\n",
      "John Gates studies in fifth standard\n",
      "John Seventh studies in fifth standard\n"
     ]
    }
   ],
   "source": [
    "#default arguments\n",
    "def student(firstname, lastname='Mark', standard='fifth'):\n",
    "    print(firstname,lastname,'studies in', standard,'standard')\n",
    "\n",
    "#1st positional argument\n",
    "student('John')\n",
    "\n",
    "#3rd positional argument\n",
    "student('John','Gates','Seventh')\n",
    "\n",
    "#2nd postional argument\n",
    "student('John','Gates')\n",
    "student('John','Seventh')"
   ]
  },
  {
   "cell_type": "code",
   "execution_count": 8,
   "id": "79d894b1",
   "metadata": {},
   "outputs": [
    {
     "name": "stdout",
     "output_type": "stream",
     "text": [
      "\n",
      " ram likes to read\n",
      "math c \n",
      "\n",
      " hari likes to read\n",
      "math c c++ python \n"
     ]
    }
   ],
   "source": [
    "#function with variable length arguments\n",
    "def func(name,*fav_sub):\n",
    "    print('\\n',name,'likes to read')\n",
    "    for subject in fav_sub:\n",
    "        print(subject,end=' ')\n",
    "    print()\n",
    "func('ram','math','c')\n",
    "func('hari','math','c','c++','python')"
   ]
  },
  {
   "cell_type": "code",
   "execution_count": 9,
   "id": "62e6a22c",
   "metadata": {},
   "outputs": [
    {
     "name": "stdout",
     "output_type": "stream",
     "text": [
      "Average =  62.666666666666664\n"
     ]
    }
   ],
   "source": [
    "#function with variable length arguments\n",
    "def percentage(*args):\n",
    "    sum=0\n",
    "    for i in args:\n",
    "        #get total\n",
    "        sum = sum + i\n",
    "    #calculate average\n",
    "    avg=sum/len(args)\n",
    "    print('Average = ',avg)\n",
    "percentage(56,61,71)"
   ]
  },
  {
   "cell_type": "code",
   "execution_count": 10,
   "id": "0d95598e",
   "metadata": {},
   "outputs": [
    {
     "name": "stdout",
     "output_type": "stream",
     "text": [
      "Value of total:  30\n",
      "Value of total:  40\n"
     ]
    }
   ],
   "source": [
    "#function definition is here\n",
    "sum=lambda arg1, arg2: arg1+arg2;\n",
    "#now you can call sm as a fuction\n",
    "print('Value of total: ',sum(10, 20))\n",
    "print('Value of total: ',sum(20, 20))"
   ]
  },
  {
   "cell_type": "code",
   "execution_count": 14,
   "id": "00b77f69",
   "metadata": {},
   "outputs": [
    {
     "name": "stdout",
     "output_type": "stream",
     "text": [
      "using regular function:  9\n",
      "using lambda function:  16\n"
     ]
    }
   ],
   "source": [
    "#using Lambda square the input value\n",
    "def square(x):\n",
    "    return x*x\n",
    "\n",
    "lambda_sq=lambda x:x*x\n",
    "print('using regular function: ',square(3))\n",
    "print('using lambda function: ',lambda_sq(4))"
   ]
  },
  {
   "cell_type": "code",
   "execution_count": 16,
   "id": "862b7060",
   "metadata": {},
   "outputs": [],
   "source": [
    "total=0; #this is a global variable\n",
    "#function definition is here\n",
    "def sum(arg1,arg2):\n",
    "    total=arg1+arg2, #here total is local variable\n",
    "    print('inside the function local total: ',total)\n",
    "    return\n",
    "#now "
   ]
  },
  {
   "cell_type": "code",
   "execution_count": 17,
   "id": "b6447989",
   "metadata": {},
   "outputs": [],
   "source": [
    "def GFG():\n",
    "    i=20\n",
    "    #check i is odd or not\n",
    "    #using if and else keyword\n",
    "    if (i%2==0):\n",
    "        print('given number is even')\n",
    "    else:\n",
    "        print('given number is odd')\n",
    "#call GFG() function"
   ]
  },
  {
   "cell_type": "code",
   "execution_count": 2,
   "id": "6f01484c",
   "metadata": {},
   "outputs": [
    {
     "name": "stdout",
     "output_type": "stream",
     "text": [
      "original list:  [10, 11, 12, 13, 14]\n",
      "new list:  [100, 121, 144, 169, 196]\n"
     ]
    }
   ],
   "source": [
    "def mysquare(x):\n",
    "    return x**2\n",
    "mylist=[10,11,12,13,14]\n",
    "mob=map(mysquare,mylist)\n",
    "mylist1=list(mob)\n",
    "print('original list: ',mylist)\n",
    "print('new list: ',mylist1)"
   ]
  },
  {
   "cell_type": "code",
   "execution_count": 3,
   "id": "e0ad4542",
   "metadata": {},
   "outputs": [
    {
     "data": {
      "text/plain": [
       "120"
      ]
     },
     "execution_count": 3,
     "metadata": {},
     "output_type": "execute_result"
    }
   ],
   "source": [
    "def factorial_recursive(n):\n",
    "#base case 1!=1\n",
    "   if n==1: return 1\n",
    "#recursive case n!=n*(n-1)!\n",
    "   else:\n",
    "    return n*factorial_recursive(n-1)\n",
    "#now call the function\n",
    "factorial_recursive(5)"
   ]
  },
  {
   "cell_type": "code",
   "execution_count": 12,
   "id": "5c28cec5",
   "metadata": {},
   "outputs": [
    {
     "name": "stdout",
     "output_type": "stream",
     "text": [
      "2.718281828459045\n"
     ]
    }
   ],
   "source": [
    "import math\n",
    "print(math.e)"
   ]
  },
  {
   "cell_type": "code",
   "execution_count": 7,
   "id": "0369b981",
   "metadata": {},
   "outputs": [
    {
     "data": {
      "text/plain": [
       "3.141592653589793"
      ]
     },
     "execution_count": 7,
     "metadata": {},
     "output_type": "execute_result"
    }
   ],
   "source": [
    "from math import pi\n",
    "pi"
   ]
  },
  {
   "cell_type": "code",
   "execution_count": 13,
   "id": "5bb7fd44",
   "metadata": {},
   "outputs": [
    {
     "data": {
      "text/plain": [
       "'c:\\\\Users\\\\student\\\\Downloads'"
      ]
     },
     "execution_count": 13,
     "metadata": {},
     "output_type": "execute_result"
    }
   ],
   "source": [
    "import os\n",
    "#this world gives locaton of the current directory\n",
    "os.getcwd()"
   ]
  },
  {
   "cell_type": "code",
   "execution_count": 14,
   "id": "81e71290",
   "metadata": {},
   "outputs": [],
   "source": [
    "#create a directory 'test'\n",
    "os.mkdir('test')"
   ]
  },
  {
   "cell_type": "code",
   "execution_count": 16,
   "id": "8950f2b8",
   "metadata": {},
   "outputs": [],
   "source": [
    "import os\n",
    "\n",
    "#This would remove '/tmp/test' directory\n",
    "os.mkdir('test 2')"
   ]
  },
  {
   "cell_type": "code",
   "execution_count": 18,
   "id": "8b967d1c",
   "metadata": {},
   "outputs": [],
   "source": [
    "def add(x,y):\n",
    "    return(x+y)\n",
    "\n",
    "def subtract(x,y):\n",
    "    return(x-y)"
   ]
  },
  {
   "cell_type": "code",
   "execution_count": null,
   "id": "13251e55",
   "metadata": {},
   "outputs": [],
   "source": []
  }
 ],
 "metadata": {
  "kernelspec": {
   "display_name": "Python 3",
   "language": "python",
   "name": "python3"
  },
  "language_info": {
   "codemirror_mode": {
    "name": "ipython",
    "version": 3
   },
   "file_extension": ".py",
   "mimetype": "text/x-python",
   "name": "python",
   "nbconvert_exporter": "python",
   "pygments_lexer": "ipython3",
   "version": "3.11.0"
  },
  "vscode": {
   "interpreter": {
    "hash": "c261aea317cc0286b3b3261fbba9abdec21eaa57589985bb7a274bf54d6cc0a7"
   }
  }
 },
 "nbformat": 4,
 "nbformat_minor": 5
}
